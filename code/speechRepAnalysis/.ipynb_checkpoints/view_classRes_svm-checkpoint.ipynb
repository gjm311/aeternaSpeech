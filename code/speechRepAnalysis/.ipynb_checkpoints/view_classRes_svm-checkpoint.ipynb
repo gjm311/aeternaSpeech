{
 "cells": [
  {
   "cell_type": "code",
   "execution_count": 1,
   "metadata": {},
   "outputs": [],
   "source": [
    "import os\n",
    "import sys\n",
    "import numpy as np\n",
    "import pandas as pd\n",
    "import pickle\n",
    "import random\n",
    "import matplotlib.pyplot as plt\n",
    "from sklearn import svm\n",
    "from sklearn.metrics import hinge_loss\n",
    "from AEspeech import AEspeech\n",
    "import pdb\n",
    "from sklearn import metrics\n",
    "from sklearn import svm, datasets\n",
    "from sklearn.svm import SVC\n",
    "from sklearn.model_selection import StratifiedShuffleSplit\n",
    "from sklearn.model_selection import GridSearchCV\n",
    "import joblib"
   ]
  },
  {
   "cell_type": "code",
   "execution_count": 2,
   "metadata": {
    "scrolled": false
   },
   "outputs": [],
   "source": [
    "PATH=os.getcwd()\n",
    "\n",
    "mod=\"CAE\"\n",
    "rep='wvlt'\n",
    "utter='pataka'\n",
    "\n",
    "pc_data=pd.read_pickle(PATH+\"/pdSpanish/classResults/svm/params/\"+mod+'_'+utter+'_'+rep+'_pc.pkl')\n",
    "results_path=PATH+\"/pdSpanish/classResults/svm/\"+mod+'_'+rep+'Results.pkl'\n",
    "results=pd.read_pickle(results_path)"
   ]
  },
  {
   "cell_type": "code",
   "execution_count": 3,
   "metadata": {
    "scrolled": true
   },
   "outputs": [
    {
     "name": "stdout",
     "output_type": "stream",
     "text": [
      "The best parameters are for utterance: pataka are {'C': 2.2758459260747865e-05, 'degree': 1, 'gamma': 206.913808111479, 'kernel': 'poly'} with a score of 0.93\n"
     ]
    }
   ],
   "source": [
    "UTTERS=['pataka']\n",
    "# UTTERS=['pataka','kakaka','pakata','papapa','petaka','tatata']\n",
    "for utter in UTTERS:\n",
    "    grid=joblib.load(PATH+\"/pdSpanish/classResults/svm/params/\"+mod+'_'+utter+'_'+rep+'Grid.pkl')\n",
    "    print(\"The best parameters are for utterance: %s are %s with a score of %0.2f\"\n",
    "      % (utter, grid.best_params_, grid.best_score_))"
   ]
  },
  {
   "cell_type": "code",
   "execution_count": null,
   "metadata": {},
   "outputs": [],
   "source": [
    "import seaborn as sns\n",
    "pvt = pd.pivot_table(pd.DataFrame(grid.cv_results_).round(2),values='mean_test_score', index='param_C',columns='param_gamma')\n",
    "ax = sns.heatmap(pvt)"
   ]
  },
  {
   "cell_type": "code",
   "execution_count": null,
   "metadata": {},
   "outputs": [],
   "source": [
    "fig,ax=plt.subplots(1,1,figsize=(8, 6))\n",
    "ax.plot(pc_data.loc['pc_var']['pataka'])\n",
    "plt.title(\"Cumulative Explained Variance per PC\")\n",
    "ax.set_xlabel(\"# components\")\n",
    "ax.set_ylabel(\"cumulative explained variance\")\n",
    "# ax.set_xlim([-.05,1.05])\n",
    "# ax.set_ylim([0,1])"
   ]
  },
  {
   "cell_type": "code",
   "execution_count": null,
   "metadata": {},
   "outputs": [],
   "source": [
    "\"\"\"Plot ROC curve for speech utterance\"\"\"\n",
    "roc_dic={thrsh*.01:{'tp':0,'fp':0,'tn':0,'fn':0} for thrsh in np.arange(101)}\n",
    "tprs=[]\n",
    "fprs=[]\n",
    "\n",
    "for itr,(index, col) in enumerate(results.items()):\n",
    "    if col.name==utter:\n",
    "        tprs=[]\n",
    "        fprs=[]\n",
    "        for thresh in roc_dic.items():\n",
    "            thr=thresh[0]\n",
    "    #         if col.name==utter:\n",
    "    #             for epoch in range(n_epochs):\n",
    "            for key,value in enumerate(list(results[index]['tstSpk_data'].values())):\n",
    "                if value == {}:\n",
    "                    value=0\n",
    "                if key<50 and value>thr:\n",
    "                    roc_dic[thr]['tp']+=1\n",
    "                if key<50 and value<thr:\n",
    "                    roc_dic[thr]['fn']+=1\n",
    "                if key>=50 and value>thr:\n",
    "                    roc_dic[thr]['fp']+=1\n",
    "                if key>=50 and value<thr:\n",
    "                    roc_dic[thr]['tn']+=1\n",
    "\n",
    "            tprs.append(roc_dic[thr]['tp']/(roc_dic[thr]['tp']+roc_dic[thr]['fn']+10e-6))\n",
    "            fprs.append(roc_dic[thr]['fp']/(roc_dic[thr]['fp']+roc_dic[thr]['tn']+10e-6))\n",
    "\n",
    "tprs=np.sort(tprs)\n",
    "fprs=np.sort(fprs)\n",
    "\n",
    "fig,ax=plt.subplots(1,1,figsize=(8, 6))\n",
    "plt.plot(np.sort(fprs),np.sort(tprs))\n",
    "plt.title(\"PD v. HC ROC: \"+mod+\", \"+rep+\", \"+utter+\"\\n AUC: \"+str(np.round(metrics.auc(fprs, tprs),3)))\n",
    "ax.set_xlabel(\"FPR\")\n",
    "ax.set_ylabel(\"TPR\")\n",
    "ax.set_xlim([-.05,1.05])\n",
    "ax.set_ylim([0,1])"
   ]
  },
  {
   "cell_type": "code",
   "execution_count": null,
   "metadata": {},
   "outputs": [],
   "source": [
    "\"\"\"Plot of ROC curve for all speech utterances\"\"\"\n",
    "# roc_dic={thrsh*.01:{'tp':0,'fp':0,'tn':0,'fn':0} for thrsh in np.arange(101)}\n",
    "# tprs=[]\n",
    "# fprs=[]\n",
    "# fig,axs=plt.subplots(2,3,figsize=(12, 8))\n",
    "# axs = axs.ravel()\n",
    "\n",
    "# for itr,(index, col) in enumerate(results.items()):\n",
    "#     if col.name==utter:\n",
    "#         tprs=[]\n",
    "#         fprs=[]\n",
    "#         ax=axs[itr]\n",
    "#         for thresh in roc_dic.items():\n",
    "#             thr=thresh[0]\n",
    "#     #         if col.name==utter:\n",
    "#     #             for epoch in range(n_epochs):\n",
    "#             for key,value in enumerate(list(results[index]['tstSpk_data'].values())):\n",
    "#                 if value == {}:\n",
    "#                     value=0\n",
    "#                 if key<50 and value>thr:\n",
    "#                     roc_dic[thr]['tp']+=1\n",
    "#                 if key<50 and value<thr:\n",
    "#                     roc_dic[thr]['fn']+=1\n",
    "#                 if key>=50 and value>thr:\n",
    "#                     roc_dic[thr]['fp']+=1\n",
    "#                 if key>=50 and value<thr:\n",
    "#                     roc_dic[thr]['tn']+=1\n",
    "\n",
    "#             tprs.append(roc_dic[thr]['tp']/(roc_dic[thr]['tp']+roc_dic[thr]['fn']+10e-6))\n",
    "#             fprs.append(roc_dic[thr]['fp']/(roc_dic[thr]['fp']+roc_dic[thr]['tn']+10e-6))\n",
    "\n",
    "#         ax.plot(np.sort(fprs),np.sort(tprs))\n",
    "#         ax.set_title(\"PD v. HC ROC: \"+mod+\", \"+rep+\", \"+index+\"\\n AUC: \"+str(np.round(metrics.auc(fprs, tprs),3)))\n",
    "#         ax.set_xlabel(\"FPR\")\n",
    "#         ax.set_ylabel(\"TPR\")\n",
    "#         ax.set_xlim([-.05,1.05])\n",
    "#         ax.set_ylim([0,1])\n",
    "#         plt.tight_layout()\n",
    "    "
   ]
  },
  {
   "cell_type": "code",
   "execution_count": null,
   "metadata": {},
   "outputs": [],
   "source": [
    "# print('MEAN % of FRAMES CLASSIFIED PD')\n",
    "# for key,item in results.items():\n",
    "#     print(key+' - ', 'pd: '+str(np.round(np.mean([itm for k,itm in item['tstSpk_data'].items() if k<50]),3)), 'hc: '+str(np.round(np.mean([itm for k,itm in item['tstSpk_data'].items() if k>=50]),3)))\n"
   ]
  },
  {
   "cell_type": "code",
   "execution_count": null,
   "metadata": {},
   "outputs": [],
   "source": []
  },
  {
   "cell_type": "code",
   "execution_count": null,
   "metadata": {},
   "outputs": [],
   "source": []
  },
  {
   "cell_type": "code",
   "execution_count": null,
   "metadata": {},
   "outputs": [],
   "source": []
  },
  {
   "cell_type": "code",
   "execution_count": null,
   "metadata": {},
   "outputs": [],
   "source": [
    "# for key,item in results.items():\n",
    "#     print(key,item['test_acc'])"
   ]
  },
  {
   "cell_type": "code",
   "execution_count": null,
   "metadata": {},
   "outputs": [],
   "source": [
    "# n_epochs=results.iloc[-1].name[0]\n",
    "# utters=['pataka','kakaka','pakata','papapa','petaka','tatata']\n",
    "\n",
    "# col_res={ut:{key:0 for key in results.loc[0].index} for ut in utters}\n",
    "\n",
    "# for index, col in results.items():\n",
    "#     col_res[col.name]['tstSpk_data']={num:0 for num in np.arange(100)}\n",
    "#     col_res[col.name]['test_accPerSpk']=0\n",
    "\n",
    "#     for epoch in range(n_epochs):\n",
    "#         col_res[col.name]['train_loss']+=col.loc[epoch]['train_loss']*(1/n_epochs)\n",
    "#         col_res[col.name]['test_loss']+=col.loc[epoch]['test_loss']*(1/n_epochs)\n",
    "#         col_res[col.name]['train_acc']+=col.loc[epoch]['train_acc']*(1/n_epochs)\n",
    "#         col_res[col.name]['test_acc']+=col.loc[epoch]['test_acc']*(1/n_epochs)\n",
    "\n",
    "#         for key,value in col.loc[epoch]['tstSpk_data'].items():   \n",
    "# #             if value>=.5:\n",
    "# #                 col_res[col.name]['test_accPerSpk']+=(1/(100*n_epochs))       \n",
    "#             col_res[col.name]['tstSpk_data'][key]+=value*(1/n_epochs)\n",
    "    "
   ]
  }
 ],
 "metadata": {
  "kernelspec": {
   "display_name": "Python 3",
   "language": "python",
   "name": "python3"
  },
  "language_info": {
   "codemirror_mode": {
    "name": "ipython",
    "version": 3
   },
   "file_extension": ".py",
   "mimetype": "text/x-python",
   "name": "python",
   "nbconvert_exporter": "python",
   "pygments_lexer": "ipython3",
   "version": "3.7.3"
  }
 },
 "nbformat": 4,
 "nbformat_minor": 2
}
