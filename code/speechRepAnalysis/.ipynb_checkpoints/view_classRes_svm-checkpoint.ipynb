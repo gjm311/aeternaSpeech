{
 "cells": [
  {
   "cell_type": "code",
   "execution_count": 1,
   "metadata": {},
   "outputs": [
    {
     "name": "stderr",
     "output_type": "stream",
     "text": [
      "Using TensorFlow backend.\n",
      "C:\\Users\\Gabriel\\Anaconda3\\lib\\site-packages\\tensorflow\\python\\framework\\dtypes.py:516: FutureWarning: Passing (type, 1) or '1type' as a synonym of type is deprecated; in a future version of numpy, it will be understood as (type, (1,)) / '(1,)type'.\n",
      "  _np_qint8 = np.dtype([(\"qint8\", np.int8, 1)])\n",
      "C:\\Users\\Gabriel\\Anaconda3\\lib\\site-packages\\tensorflow\\python\\framework\\dtypes.py:517: FutureWarning: Passing (type, 1) or '1type' as a synonym of type is deprecated; in a future version of numpy, it will be understood as (type, (1,)) / '(1,)type'.\n",
      "  _np_quint8 = np.dtype([(\"quint8\", np.uint8, 1)])\n",
      "C:\\Users\\Gabriel\\Anaconda3\\lib\\site-packages\\tensorflow\\python\\framework\\dtypes.py:518: FutureWarning: Passing (type, 1) or '1type' as a synonym of type is deprecated; in a future version of numpy, it will be understood as (type, (1,)) / '(1,)type'.\n",
      "  _np_qint16 = np.dtype([(\"qint16\", np.int16, 1)])\n",
      "C:\\Users\\Gabriel\\Anaconda3\\lib\\site-packages\\tensorflow\\python\\framework\\dtypes.py:519: FutureWarning: Passing (type, 1) or '1type' as a synonym of type is deprecated; in a future version of numpy, it will be understood as (type, (1,)) / '(1,)type'.\n",
      "  _np_quint16 = np.dtype([(\"quint16\", np.uint16, 1)])\n",
      "C:\\Users\\Gabriel\\Anaconda3\\lib\\site-packages\\tensorflow\\python\\framework\\dtypes.py:520: FutureWarning: Passing (type, 1) or '1type' as a synonym of type is deprecated; in a future version of numpy, it will be understood as (type, (1,)) / '(1,)type'.\n",
      "  _np_qint32 = np.dtype([(\"qint32\", np.int32, 1)])\n",
      "C:\\Users\\Gabriel\\Anaconda3\\lib\\site-packages\\tensorflow\\python\\framework\\dtypes.py:525: FutureWarning: Passing (type, 1) or '1type' as a synonym of type is deprecated; in a future version of numpy, it will be understood as (type, (1,)) / '(1,)type'.\n",
      "  np_resource = np.dtype([(\"resource\", np.ubyte, 1)])\n",
      "C:\\Users\\Gabriel\\Anaconda3\\lib\\site-packages\\tensorboard\\compat\\tensorflow_stub\\dtypes.py:541: FutureWarning: Passing (type, 1) or '1type' as a synonym of type is deprecated; in a future version of numpy, it will be understood as (type, (1,)) / '(1,)type'.\n",
      "  _np_qint8 = np.dtype([(\"qint8\", np.int8, 1)])\n",
      "C:\\Users\\Gabriel\\Anaconda3\\lib\\site-packages\\tensorboard\\compat\\tensorflow_stub\\dtypes.py:542: FutureWarning: Passing (type, 1) or '1type' as a synonym of type is deprecated; in a future version of numpy, it will be understood as (type, (1,)) / '(1,)type'.\n",
      "  _np_quint8 = np.dtype([(\"quint8\", np.uint8, 1)])\n",
      "C:\\Users\\Gabriel\\Anaconda3\\lib\\site-packages\\tensorboard\\compat\\tensorflow_stub\\dtypes.py:543: FutureWarning: Passing (type, 1) or '1type' as a synonym of type is deprecated; in a future version of numpy, it will be understood as (type, (1,)) / '(1,)type'.\n",
      "  _np_qint16 = np.dtype([(\"qint16\", np.int16, 1)])\n",
      "C:\\Users\\Gabriel\\Anaconda3\\lib\\site-packages\\tensorboard\\compat\\tensorflow_stub\\dtypes.py:544: FutureWarning: Passing (type, 1) or '1type' as a synonym of type is deprecated; in a future version of numpy, it will be understood as (type, (1,)) / '(1,)type'.\n",
      "  _np_quint16 = np.dtype([(\"quint16\", np.uint16, 1)])\n",
      "C:\\Users\\Gabriel\\Anaconda3\\lib\\site-packages\\tensorboard\\compat\\tensorflow_stub\\dtypes.py:545: FutureWarning: Passing (type, 1) or '1type' as a synonym of type is deprecated; in a future version of numpy, it will be understood as (type, (1,)) / '(1,)type'.\n",
      "  _np_qint32 = np.dtype([(\"qint32\", np.int32, 1)])\n",
      "C:\\Users\\Gabriel\\Anaconda3\\lib\\site-packages\\tensorboard\\compat\\tensorflow_stub\\dtypes.py:550: FutureWarning: Passing (type, 1) or '1type' as a synonym of type is deprecated; in a future version of numpy, it will be understood as (type, (1,)) / '(1,)type'.\n",
      "  np_resource = np.dtype([(\"resource\", np.ubyte, 1)])\n",
      "C:\\Users\\Gabriel\\Anaconda3\\lib\\site-packages\\statsmodels\\tools\\_testing.py:19: FutureWarning: pandas.util.testing is deprecated. Use the functions in the public API at pandas.testing instead.\n",
      "  import pandas.util.testing as tm\n"
     ]
    }
   ],
   "source": [
    "import os\n",
    "import sys\n",
    "import numpy as np\n",
    "import pandas as pd\n",
    "import pickle\n",
    "import random\n",
    "import matplotlib.pyplot as plt\n",
    "from sklearn import svm\n",
    "from sklearn.metrics import hinge_loss\n",
    "from AEspeech import AEspeech\n",
    "import pdb\n",
    "from sklearn import metrics\n",
    "from sklearn import svm, datasets\n",
    "from sklearn.svm import SVC\n",
    "from sklearn.model_selection import StratifiedShuffleSplit\n",
    "from sklearn.model_selection import GridSearchCV\n",
    "from sklearn.metrics import roc_curve, auc\n",
    "from sklearn.metrics import roc_auc_score\n",
    "from sklearn.metrics import confusion_matrix\n",
    "import seaborn as sns\n",
    "import joblib"
   ]
  },
  {
   "cell_type": "code",
   "execution_count": 43,
   "metadata": {},
   "outputs": [],
   "source": [
    "#load results for model type and speech representation type (aggregated and per utterance) as well as mfda scores\n",
    "\n",
    "PATH=os.getcwd()\n",
    "\n",
    "mod=\"CAE\"\n",
    "rep='wvlt'\n",
    "aggResultsPath=PATH+\"/pdSpanish/classResults/svm/\"+mod+'_'+rep+'_aggResults.pkl'\n",
    "aggResults=pd.read_pickle(aggResultsPath)\n",
    "results_path=PATH+\"/pdSpanish/classResults/svm/\"+mod+'_'+rep+'Results.pkl'\n",
    "results=pd.read_pickle(results_path)\n",
    "\n",
    "mfda_path=PATH+\"/pdSpanish/\"\n",
    "mfdas=pd.read_csv(mfda_path+\"metadata-Spanish_All.csv\")['M-FDA'].values\n",
    "pd_mfdas=mfdas[0:50]\n",
    "hc_mfdas=mfdas[50:]"
   ]
  },
  {
   "cell_type": "code",
   "execution_count": 44,
   "metadata": {},
   "outputs": [],
   "source": [
    "num_itrs=max(aggResults['Data']['bin_class'].keys())+1\n",
    "sdAggResults=np.zeros((100,num_itrs,aggResults['Data']['bin_class'][0][0].shape[0],aggResults['Data']['bin_class'][0][0].shape[1]))\n",
    "avgAggResults={spk:{num[i]:[] for num in zip(range(50),range(50,100))} for i,spk in enumerate(['pd','hc'])}\n",
    "# sdAggResults={spk:{num[i]:spk_sample_res for num in zip(range(50),range(50,100))} for i,spk in enumerate(['pd','hc'])}\n",
    "\n",
    "\n",
    "for j in range(num_itrs):\n",
    "    for i in range(100):\n",
    "        sdAggResults[i,j,:,:]=aggResults['Data']['bin_class'][j][i]\n",
    "        \n",
    "        if j==0:\n",
    "            if i<50:\n",
    "                avgAggResults['pd'][i]=aggResults['Data']['bin_class'][j][i]*(1/num_itrs)\n",
    "            else:\n",
    "                avgAggResults['hc'][i]=aggResults['Data']['bin_class'][j][i]*(1/num_itrs)\n",
    "        else:\n",
    "            if i<50:\n",
    "                avgAggResults['pd'][i]+=aggResults['Data']['bin_class'][j][i]*(1/num_itrs)\n",
    "            else:\n",
    "                avgAggResults['hc'][i]+=aggResults['Data']['bin_class'][j][i]*(1/num_itrs)"
   ]
  },
  {
   "cell_type": "code",
   "execution_count": 45,
   "metadata": {},
   "outputs": [
    {
     "data": {
      "text/plain": [
       "Text(0.5, 1.0, 'Std. of Prediction per Speaker vs. Speaker m-FDA (Over 3 Iterations)\\nCAE, wvlt')"
      ]
     },
     "execution_count": 45,
     "metadata": {},
     "output_type": "execute_result"
    },
    {
     "data": {
      "image/png": "[encoded data removed]",
      "text/plain": [
       "<Figure size 432x288 with 1 Axes>"
      ]
     },
     "metadata": {
      "needs_background": "light"
     },
     "output_type": "display_data"
    }
   ],
   "source": [
    "\"\"\"Takes standard deviation across multiple iterations of classification probabilites and then averaged over each utterance\"\"\"\n",
    "spk_avg_var=np.zeros(100)\n",
    "for i in range(100):\n",
    "    spk_avg_var[i]=np.mean(np.std(sdAggResults[i],axis=0))\n",
    "        \n",
    "plt.scatter(mfdas,spk_avg_var)\n",
    "plt.xlim([-1,50])\n",
    "plt.ylim([-.001,1])\n",
    "plt.xlabel('m-FDA')\n",
    "plt.ylabel('Std. of Prediction per Speaker')\n",
    "plt.title('Std. of Prediction per Speaker vs. Speaker m-FDA (Over '+str(num_itrs)+' Iterations)\\n'+mod+\", \"+rep)"
   ]
  },
  {
   "cell_type": "code",
   "execution_count": 46,
   "metadata": {},
   "outputs": [],
   "source": [
    "test_acc=0\n",
    "y_score=np.zeros((100,2))\n",
    "y_score_curr=y_score\n",
    "y_test=np.zeros((100,2))\n",
    "y_test_curr=y_test\n",
    "max_acc=0\n",
    "# for thresh in range(-100,100):\n",
    "#     thresh=thresh/100\n",
    "#     test_acc=0\n",
    "for i in range(100):\n",
    "    if i<50:\n",
    "        y_score[i,:]=np.median(avgAggResults['pd'][i][:,0]),np.median(avgAggResults['pd'][i][:,1])\n",
    "        y_test[i,:]=np.vstack((np.zeros(1),np.ones(1))).T\n",
    "        spk_diff=y_score[i,1]-y_score[i,0]\n",
    "        if spk_diff>opt_thresh:\n",
    "            test_acc+=1\n",
    "    else:\n",
    "        y_score[i,:]=np.median(avgAggResults['hc'][i][:,0]),np.median(avgAggResults['hc'][i][:,1])\n",
    "        y_test[i,:]=np.vstack((np.ones(1),np.zeros(1))).T\n",
    "        spk_diff=y_score[i,1]-y_score[i,0]\n",
    "        if spk_diff<opt_thresh:\n",
    "            test_acc+=1\n",
    "    \n",
    "#     if max_acc<test_acc/100:\n",
    "#         max_acc=test_acc/100\n",
    "#         opt_thresh=thresh\n",
    "#         y_score=y_score_curr\n",
    "#         y_test=y_test_curr\n",
    "        "
   ]
  },
  {
   "cell_type": "code",
   "execution_count": 47,
   "metadata": {},
   "outputs": [
    {
     "data": {
      "text/plain": [
       "Text(0.5, 1.0, 'm-FDA v. Difference in Classification Probability\\nOverall Test Acc: 0.71 \\nCAE, wvlt')"
      ]
     },
     "execution_count": 47,
     "metadata": {},
     "output_type": "execute_result"
    },
    {
     "data": {
      "image/png": "[encoded data removed]",
      "text/plain": [
       "<Figure size 432x288 with 1 Axes>"
      ]
     },
     "metadata": {
      "needs_background": "light"
     },
     "output_type": "display_data"
    }
   ],
   "source": [
    "# \"\"\"Plots predicted probability of correct class. (ostensibly, greater than 0.5 implies correct class.)\"\"\"\n",
    "# correct_idx=np.where(np.concatenate((y_score[0:50,1],y_score[50:,0]))>.5)\n",
    "# incorrect_idx=np.where(np.concatenate((y_score[0:50,1],y_score[50:,0]))<.5)\n",
    "# plt.scatter(mfdas[correct_idx],np.concatenate((y_score[0:50,1],y_score[50:,0]))[correct_idx])\n",
    "# plt.scatter(mfdas[incorrect_idx],np.concatenate((y_score[0:50,1],y_score[50:,0]))[incorrect_idx] )\n",
    "# plt.axhline(y=0.5, color='black', linestyle='--')\n",
    "# plt.axhspan(0.5, 1.1, color='green', alpha=0.5, lw=0)\n",
    "# plt.axhspan(-.1, 0.5, color='pink', alpha=0.5, lw=0)\n",
    "# plt.legend(['threshold (0.5)', 'correctly classified', 'incorrectly classified'])\n",
    "# plt.xlim([-1,55])\n",
    "# plt.ylim([0,1])\n",
    "# plt.xlabel('m-FDA')\n",
    "# plt.ylabel('Predicted Probability of Correct Class')\n",
    "# plt.title('Predicted Probability of Correct Classification v. m-FDA\\nOverall Test Acc: '+str(len(correct_idx[0])/100)+' \\n'+mod+\", \"+rep)\n",
    "\n",
    "\"\"\"Prediction based on difference between predicted class probs.\"\"\"\n",
    "opt_thresh=aggResults['Data']['opt_thresh']\n",
    "correct_idx=np.concatenate((np.where((y_score[0:50,0]-y_score[0:50,1])<0)[0],np.where((y_score[50:,0]-y_score[50:,1])>0)[0]+50))\n",
    "incorrect_idx=np.concatenate((np.where((y_score[0:50,0]-y_score[0:50,1])>0)[0],np.where((y_score[50:,0]-y_score[50:,1])<0)[0]+50))\n",
    "plt.scatter(mfdas[correct_idx],(y_score[:,1]-y_score[:,0])[correct_idx],c='g' )\n",
    "plt.scatter(mfdas[incorrect_idx],(y_score[:,1]-y_score[:,0])[incorrect_idx],c='r' )\n",
    "plt.axhline(y=opt_thresh, color='black', linestyle='--',label=\"optimal threshold\")\n",
    "plt.axhspan(opt_thresh, 2, color='pink', alpha=0.5, lw=0)\n",
    "plt.axhspan(-2, opt_thresh, color='turquoise', alpha=0.5, lw=0)\n",
    "plt.legend(['threshold ('+str(opt_thresh)+')', 'pd', 'hc', 'correctly classified', 'incorrectly classified'])\n",
    "plt.xlim([-1,55])\n",
    "plt.ylim([-2,2])\n",
    "plt.xlabel('m-FDA')\n",
    "plt.ylabel('Predicted Probability of Correct Class')\n",
    "plt.title('m-FDA v. Difference in Classification Probability\\nOverall Test Acc: '+str(correct_idx.shape[0]/100)+' \\n'+mod+\", \"+rep)"
   ]
  },
  {
   "cell_type": "code",
   "execution_count": 38,
   "metadata": {
    "scrolled": false
   },
   "outputs": [
    {
     "data": {
      "text/plain": [
       "<matplotlib.legend.Legend at 0x25b733c7278>"
      ]
     },
     "execution_count": 38,
     "metadata": {},
     "output_type": "execute_result"
    },
    {
     "data": {
      "image/png": "[encoded data removed]",
      "text/plain": [
       "<Figure size 432x288 with 1 Axes>"
      ]
     },
     "metadata": {
      "needs_background": "light"
     },
     "output_type": "display_data"
    }
   ],
   "source": [
    "fpr=dict()\n",
    "tpr=dict()\n",
    "roc_auc=dict()\n",
    "for i in range(2):\n",
    "    fpr[i], tpr[i], _ = roc_curve(np.array(y_test[:, i]), np.array(y_score[:, i]))\n",
    "    roc_auc[i] = auc(fpr[i], tpr[i])\n",
    "\n",
    "lw = 2\n",
    "mgc=1\n",
    "plt.plot(fpr[mgc], tpr[mgc], color='darkorange',\n",
    "         lw=lw, label='ROC curve (area = %0.2f)' % roc_auc[mgc])\n",
    "plt.plot([0, 1], [0, 1], color='navy', lw=lw, linestyle='--')\n",
    "plt.xlim([0.0, 1.0])\n",
    "plt.ylim([0.0, 1.05])\n",
    "plt.xlabel('False Positive Rate')\n",
    "plt.ylabel('True Positive Rate')\n",
    "plt.title('ROC: Trained on All Utternaces\\n'+mod+\", \"+rep)\n",
    "plt.legend(loc=\"lower right\")"
   ]
  },
  {
   "cell_type": "code",
   "execution_count": null,
   "metadata": {},
   "outputs": [],
   "source": [
    "\"\"\"\n",
    "Results where training/testing done independently per utterance.\n",
    "\"\"\"\n",
    "results"
   ]
  },
  {
   "cell_type": "code",
   "execution_count": null,
   "metadata": {},
   "outputs": [],
   "source": [
    "# \"\"\"\n",
    "# ADD choice number of pcs (>90% cumultive variance) \n",
    "# \"\"\"\n",
    "# fig,ax=plt.subplots(2,3,figsize=(15,8))\n",
    "\n",
    "# for uItr,utter in enumerate(UTTERS):\n",
    "#     row_itr=np.mod(uItr,2)\n",
    "#     col_itr=np.mod(uItr,3)\n",
    "#     pc_data=pd.read_pickle(PATH+\"/pdSpanish/classResults/svm/params/\"+mod+'_'+utter+'_'+rep+'_pc.pkl')\n",
    "#     x=max(np.where(pc_data.loc['pc_var']['pataka']<90)[0])\n",
    "#     y=pc_data.loc['pc_var']['pataka'][x]\n",
    "    \n",
    "#     ax[row_itr][col_itr].plot(pc_data.loc['pc_var']['pataka'])\n",
    "#     ax[row_itr][col_itr].vlines(x, 0, y, linestyle=\"dashed\")\n",
    "#     ax[row_itr][col_itr].hlines(y, 0, x, linestyle=\"dashed\")\n",
    "#     ax[row_itr][col_itr].set_title(\"Cumulative Explained Variance per PC\\n Min. # of Components Cumulating >90%: \"+str(x))\n",
    "#     ax[row_itr][col_itr].set_xlabel(\"# components\")\n",
    "#     ax[row_itr][col_itr].set_ylabel(\"cumulative explained variance\")\n",
    "#     ax[row_itr][col_itr].set_xlim([-.5, 100])\n",
    "#     ax[row_itr][col_itr].set_ylim([min(pc_data.loc['pc_var']['pataka']), 100.5])\n",
    "    \n",
    "# plt.tight_layout()"
   ]
  },
  {
   "cell_type": "code",
   "execution_count": null,
   "metadata": {},
   "outputs": [],
   "source": [
    "\"\"\"\n",
    "Results reported per utterance.\n",
    "\"\"\"\n",
    "num_itrs=list(results['pataka']['bin_class'].keys())[-1]+1\n",
    "y_scores=np.zeros((100*len(UTTERS)*num_itrs,2))\n",
    "y_tests=np.zeros((100*len(UTTERS)*num_itrs,2))\n",
    "\n",
    "                  \n",
    "fig,ax=plt.subplots(2,3,figsize=(13, 6))\n",
    "for uItr,utter in enumerate(UTTERS):\n",
    "    y_score=np.zeros((100*num_itrs,2))\n",
    "    y_test=np.zeros((100*num_itrs,2))\n",
    "\n",
    "    for j in range(100):\n",
    "        for i in range(num_itrs):\n",
    "            y_score[i*100+j]+=results[utter]['bin_class'][i][j]\n",
    "            if j<50:\n",
    "                y_test[i*100+j,:]=np.vstack((np.zeros(1),np.ones(1))).T\n",
    "            if j>=50:\n",
    "                y_test[i*100+j,:]=np.vstack((np.ones(1),np.zeros(1))).T\n",
    "    \n",
    "    y_scores[uItr*100*num_itrs:(uItr+1)*100*num_itrs]=y_score\n",
    "    y_tests[uItr*100*num_itrs:(uItr+1)*100*num_itrs]=y_test\n",
    "    fpr=dict()\n",
    "    tpr=dict()\n",
    "    roc_auc=dict()\n",
    "    for i in range(2):\n",
    "        fpr[i], tpr[i], _ = roc_curve(y_test[:, i], y_score[:, i])\n",
    "        roc_auc[i] = auc(fpr[i], tpr[i])\n",
    "\n",
    "    lw = 2\n",
    "    mgc=1\n",
    "    row_itr=np.mod(uItr,2)\n",
    "    col_itr=np.mod(uItr,3)\n",
    "    ax[row_itr][col_itr].plot(fpr[mgc], tpr[mgc], color='darkorange',\n",
    "             lw=lw, label='ROC curve (area = %0.2f)' % roc_auc[mgc])\n",
    "    ax[row_itr][col_itr].plot([0, 1], [0, 1], color='navy', lw=lw, linestyle='--')\n",
    "    ax[row_itr][col_itr].set_xlim([0.0, 1.0])\n",
    "    ax[row_itr][col_itr].set_ylim([0.0, 1.05])\n",
    "    ax[row_itr][col_itr].set_xlabel('False Positive Rate')\n",
    "    ax[row_itr][col_itr].set_ylabel('True Positive Rate')\n",
    "    ax[row_itr][col_itr].set_title('ROC: '+mod+\", \"+rep+\", \"+utter)\n",
    "    ax[row_itr][col_itr].legend(loc=\"lower right\")\n",
    "#     plt.show()\n",
    "plt.tight_layout()\n"
   ]
  },
  {
   "cell_type": "code",
   "execution_count": null,
   "metadata": {},
   "outputs": [],
   "source": [
    "\"\"\"\n",
    "Overall results for independently trained models.\n",
    "\"\"\"\n",
    "fpr=dict()\n",
    "tpr=dict()\n",
    "for i in range(2):\n",
    "    fpr[i], tpr[i], _ = roc_curve(np.array(y_tests[:, i]), np.array(y_scores[:, i]))\n",
    "    roc_auc[i] = auc(fpr[i], tpr[i])\n",
    "\n",
    "lw = 2\n",
    "mgc=1\n",
    "plt.plot(fpr[mgc], tpr[mgc], color='darkorange',\n",
    "         lw=lw, label='ROC curve (area = %0.2f)' % roc_auc[mgc])\n",
    "plt.plot([0, 1], [0, 1], color='navy', lw=lw, linestyle='--')\n",
    "plt.xlim([0.0, 1.0])\n",
    "plt.ylim([0.0, 1.05])\n",
    "plt.xlabel('False Positive Rate')\n",
    "plt.ylabel('True Positive Rate')\n",
    "plt.title('ROC: Aggregating All Utternaces\\n'+mod+\", \"+rep)\n",
    "plt.legend(loc=\"lower right\")"
   ]
  },
  {
   "cell_type": "code",
   "execution_count": null,
   "metadata": {},
   "outputs": [],
   "source": [
    "# fig,ax=plt.subplots(2,3,figsize=(15,8))\n",
    "\n",
    "# for uItr,utter in enumerate(UTTERS):\n",
    "#     row_itr=np.mod(uItr,2)\n",
    "#     col_itr=np.mod(uItr,3)\n",
    "#     grid=joblib.load(PATH+\"/pdSpanish/classResults/svm/params/\"+mod+'_'+utter+'_'+rep+'Grid.pkl')\n",
    "#     pvt = pd.pivot_table(pd.DataFrame(grid.cv_results_),values='mean_test_score', index='param_C',columns='param_gamma')\n",
    "#     g = sns.heatmap(pvt,ax=ax[row_itr][col_itr])\n",
    "#     g.set_ylabel(\"param 'C'\")\n",
    "#     g.set_xlabel(\"param 'Gamma'\")\n",
    "#     g.set_title('Heatmap: Random Grid Search for SVM params \\n'+mod+\", \"+rep+\", \"+utter)\n",
    "#     ylabels = ['{:,.3g}'.format(y) for y in pvt.index]\n",
    "#     g.set_yticklabels(ylabels)\n",
    "#     xlabels = ['{:,.3g}'.format(x) for x in pvt.columns]\n",
    "#     g.set_xticklabels(xlabels)\n",
    "\n",
    "# plt.tight_layout()"
   ]
  },
  {
   "cell_type": "code",
   "execution_count": null,
   "metadata": {},
   "outputs": [],
   "source": [
    "# UTTERS=['pataka','kakaka','pakata','papapa','petaka','tatata']\n",
    "\n",
    "# grid=joblib.load(PATH+\"/pdSpanish/classResults/svm/params/\"+mod+'_'+rep+'aggGrid.pkl')\n",
    "# print(\"The best parameters are: %s with a score of %0.2f\"\n",
    "#       % (grid.best_params_, grid.best_score_))"
   ]
  },
  {
   "cell_type": "code",
   "execution_count": null,
   "metadata": {
    "scrolled": true
   },
   "outputs": [],
   "source": [
    "# grid=joblib.load(PATH+\"/pdSpanish/classResults/svm/params/\"+mod+'_'+rep+'aggGrid.pkl')\n",
    "# pvt = pd.pivot_table(pd.DataFrame(grid.cv_results_),values='mean_test_score', index='param_C',columns='param_gamma')\n",
    "# g = sns.heatmap(pvt)\n",
    "# g.set_ylabel(\"param 'C'\")\n",
    "# g.set_xlabel(\"param 'Gamma'\")\n",
    "# g.set_title('Heatmap: Random Grid Search for SVM params \\n'+mod+\", \"+rep)\n",
    "# ylabels = ['{:,.3g}'.format(y) for y in pvt.index]\n",
    "# g.set_yticklabels(ylabels)\n",
    "# xlabels = ['{:,.3g}'.format(x) for x in pvt.columns]\n",
    "# g.set_xticklabels(xlabels)\n"
   ]
  },
  {
   "cell_type": "code",
   "execution_count": null,
   "metadata": {},
   "outputs": [],
   "source": []
  }
 ],
 "metadata": {
  "kernelspec": {
   "display_name": "Python 3",
   "language": "python",
   "name": "python3"
  },
  "language_info": {
   "codemirror_mode": {
    "name": "ipython",
    "version": 3
   },
   "file_extension": ".py",
   "mimetype": "text/x-python",
   "name": "python",
   "nbconvert_exporter": "python",
   "pygments_lexer": "ipython3",
   "version": "3.7.3"
  }
 },
 "nbformat": 4,
 "nbformat_minor": 2
}
