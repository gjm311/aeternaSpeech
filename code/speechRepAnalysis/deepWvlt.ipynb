{
 "cells": [
  {
   "cell_type": "code",
   "execution_count": 1,
   "metadata": {},
   "outputs": [],
   "source": [
    "from matplotlib import pyplot as plt\n",
    "import os\n",
    "from scipy.io.wavfile import read\n",
    "import scipy\n",
    "import numpy as np\n",
    "import torch\n",
    "import librosa\n",
    "from librosa.feature import melspectrogram\n",
    "import scaleogram as scg \n",
    "from logmmse import logmmse_from_file\n",
    "import pywt\n",
    "import seaborn as sns\n",
    "import pandas as pd\n",
    "import sys\n",
    "from AEspeech import AEspeech\n",
    "# from phonetGM2 import Phonet\n",
    "from SpecDatset import SpecDataset"
   ]
  },
  {
   "cell_type": "code",
   "execution_count": 2,
   "metadata": {},
   "outputs": [],
   "source": [
    "a=\"./tedx_spanish_corpus/reps/wvlt/train/train/\"\n",
    "train=SpecDataset(a)\n",
    "rep_typ=a.split('/')[-4]\n",
    "from wvRAE import wvRAEn\n",
    "if rep_typ=='wvlt':\n",
    "    model=wvRAEn(256)\n",
    "    \n",
    "# optimizer = torch.optim.Adam(model.parameters(), lr=0.0001)\n",
    "# model.train() # prep model for training\n",
    "    \n",
    "# SCALERS = pd.read_csv(\"scales.csv\")\n",
    "    \n",
    "# train_loss = 0.0\n",
    "# valid_loss = 0.0\n",
    "# # cdata=0\n",
    "# if torch.cuda.is_available():\n",
    "#     print(torch.cuda.get_device_name(0))\n",
    "#     model.cuda()\n",
    "#     print('Memory Usage:')\n",
    "#     print('Allocated:', round(torch.cuda.memory_allocated(0)/1024**3,1), 'GB')\n",
    "#     print('Cached:   ', round(torch.cuda.memory_cached(0)/1024**3,1), 'GB')\n",
    "# train_loader = torch.utils.data.DataLoader(train, batch_size=3, drop_last=True, num_workers=0)\n",
    "\n",
    "# for data in train_loader:\n",
    "\n",
    "#     # clear the gradients of all optimized variables\n",
    "#     optimizer.zero_grad()\n",
    "#     if rep_typ == 'spec':\n",
    "#         data=standard(data, MIN_SCALER, MAX_SCALER)\n",
    "#     elif rep_typ=='wvlt':\n",
    "#         data=torch.reshape(data,[3,1,32,8])\n",
    "\n",
    "#     data=data.float()\n",
    "\n",
    "#     if torch.cuda.is_available():\n",
    "#         data=data.cuda()\n",
    "\n",
    "#     data_out, bottle=model.forward(data)\n",
    "#     break"
   ]
  },
  {
   "cell_type": "code",
   "execution_count": null,
   "metadata": {},
   "outputs": [],
   "source": [
    "from SpecDatset import SpecDataset\n",
    "import time\n",
    "import torch\n",
    "import numpy as np\n",
    "import pandas as pd\n",
    "import os\n",
    "import sys\n",
    "from CAE import CAEn\n",
    "PATH=os.getcwd()\n",
    "sys.path.append(PATH+\"/toolbox/\")\n",
    "import traintestsplit as tts"
   ]
  },
  {
   "cell_type": "code",
   "execution_count": null,
   "metadata": {},
   "outputs": [],
   "source": [
    "# Load mels\n",
    "sys.path.append(PATH+\"/waveglow/\")\n",
    "sys.path.append(PATH+\"/waveglow/tacotron2/\")\n",
    "from utils import load_wav_to_torch\n",
    "from denoiser import Denoiser\n",
    "from layers import TacotronSTFT, STFT\n",
    "from hparams import create_hparams\n",
    "import IPython.display as ipd\n",
    "hparams = create_hparams()\n",
    "\n",
    "waveglow_path = PATH+'/waveglow/tacotron2/'\n",
    "waveglow = torch.load(waveglow_path)['model']\n",
    "waveglow.cuda().eval().half()\n",
    "for k in waveglow.convinv:\n",
    "    k.float()\n",
    "denoiser = Denoiser(waveglow)"
   ]
  }
 ],
 "metadata": {
  "kernelspec": {
   "display_name": "Python 3",
   "language": "python",
   "name": "python3"
  },
  "language_info": {
   "codemirror_mode": {
    "name": "ipython",
    "version": 3
   },
   "file_extension": ".py",
   "mimetype": "text/x-python",
   "name": "python",
   "nbconvert_exporter": "python",
   "pygments_lexer": "ipython3",
   "version": "3.7.3"
  }
 },
 "nbformat": 4,
 "nbformat_minor": 2
}
