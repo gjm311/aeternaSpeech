{
 "cells": [
  {
   "cell_type": "code",
   "execution_count": 21,
   "metadata": {},
   "outputs": [],
   "source": [
    "import os\n",
    "import sys\n",
    "import numpy as np\n",
    "import pandas as pd\n",
    "import pickle\n",
    "import random\n",
    "from sklearn import svm\n",
    "from sklearn.metrics import hinge_loss\n",
    "from AEspeech import AEspeech\n",
    "import pdb\n",
    "from sklearn import metrics"
   ]
  },
  {
   "cell_type": "code",
   "execution_count": 13,
   "metadata": {},
   "outputs": [],
   "source": [
    "PATH=os.getcwd()\n",
    "mod=\"CAE\"\n",
    "rep='wvlt'\n",
    "class_typ='svm'\n",
    "\n",
    "results_path=PATH+\"/pdSpanish/classResults/svm/\"+mod+'_'+rep+'Results.pkl'\n",
    "trainRes_path=PATH+\"/pdSpanish/classResults/dnn/\"+mod+'_'+rep+'TrainResults.pkl'\n",
    "testRes_path=PATH+\"/pdSpanish/classResults/dnn/\"+mod+'_'+rep+'TestResults.pkl'"
   ]
  },
  {
   "cell_type": "code",
   "execution_count": 58,
   "metadata": {},
   "outputs": [],
   "source": [
    "mfda_path=PATH+\"/pdSpanish/\"\n",
    "mfdas=pd.read_csv(mfda_path+\"metadata-Spanish_All.csv\")['M-FDA'].values"
   ]
  },
  {
   "cell_type": "code",
   "execution_count": 14,
   "metadata": {},
   "outputs": [],
   "source": [
    "results=pd.read_pickle(results_path)\n",
    "\n",
    "# trainRes=pd.read_pickle(trainRes_path)\n",
    "# testRes=pd.read_pickle(testRes_path)"
   ]
  },
  {
   "cell_type": "code",
   "execution_count": 16,
   "metadata": {},
   "outputs": [
    {
     "name": "stdout",
     "output_type": "stream",
     "text": [
      "pataka 0.26368749999999996 pataka 0.149625\n",
      "kakaka 0.9039999999999999 kakaka 0.9109999999999999\n",
      "pakata 0.16325 pakata 0.09449999999999999\n",
      "papapa 0.18568749999999998 papapa 0.16362500000000002\n",
      "petaka 0.21187499999999995 petaka 0.220375\n",
      "tatata 0.1453125 tatata 0.12525000000000003\n"
     ]
    }
   ],
   "source": [
    "for key,item in results.items():\n",
    "    print(key,np.mean(list(item['tstSpk_data'].values())[0:50]),key,np.mean(list(item['tstSpk_data'].values())[50:]))"
   ]
  },
  {
   "cell_type": "code",
   "execution_count": 48,
   "metadata": {},
   "outputs": [],
   "source": [
    "roc_dic={thrsh*.01:{'tp':0,'fp':0,'tn':0,'fn':0} for thrsh in np.arange(101)}\n",
    "tprs=[]\n",
    "fprs=[]\n",
    "utter='pataka'\n",
    "\n",
    "for thresh in roc_dic.items():\n",
    "    thr=thresh[0]\n",
    "#     for index, col in results.items():\n",
    "#         if col.name==utter:\n",
    "#             for epoch in range(n_epochs):\n",
    "    for key,value in results[utter]['tstSpk_data'].items():\n",
    "        value=min(value,1)\n",
    "        if key<50 and value>thr:\n",
    "            roc_dic[thr]['tp']+=1\n",
    "        if key<50 and value<thr:\n",
    "            roc_dic[thr]['fn']+=1\n",
    "        if key>=50 and value>thr:\n",
    "            roc_dic[thr]['fp']+=1\n",
    "        if key>=50 and value<thr:\n",
    "            roc_dic[thr]['tn']+=1\n",
    "\n",
    "    tprs.append(roc_dic[thr]['tp']/(roc_dic[thr]['tp']+roc_dic[thr]['fn']+10e-6))\n",
    "    fprs.append(roc_dic[thr]['fp']/(roc_dic[thr]['fp']+roc_dic[thr]['tn']+10e-6))"
   ]
  },
  {
   "cell_type": "code",
   "execution_count": 49,
   "metadata": {},
   "outputs": [
    {
     "data": {
      "text/plain": [
       "(0, 1)"
      ]
     },
     "execution_count": 49,
     "metadata": {},
     "output_type": "execute_result"
    },
    {
     "data": {
      "image/png": "[encoded data removed]",
      "text/plain": [
       "<Figure size 576x432 with 1 Axes>"
      ]
     },
     "metadata": {
      "needs_background": "light"
     },
     "output_type": "display_data"
    }
   ],
   "source": [
    "tprs=np.sort(tprs)\n",
    "fprs=np.sort(fprs)\n",
    "\n",
    "import matplotlib.pyplot as plt\n",
    "fig,ax=plt.subplots(1,1,figsize=(8, 6))\n",
    "plt.plot(np.sort(fprs),np.sort(tprs))\n",
    "plt.title(\"PD v. HC ROC: \"+mod+\", \"+rep+\", \"+utter+\"\\n AUC: \"+str(np.round(metrics.auc(fprs, tprs),3)))\n",
    "ax.set_xlabel(\"FPR\")\n",
    "ax.set_ylabel(\"TPR\")\n",
    "ax.set_xlim([-.05,1])\n",
    "ax.set_ylim([0,1])"
   ]
  },
  {
   "cell_type": "code",
   "execution_count": null,
   "metadata": {},
   "outputs": [],
   "source": []
  },
  {
   "cell_type": "code",
   "execution_count": null,
   "metadata": {},
   "outputs": [],
   "source": []
  },
  {
   "cell_type": "code",
   "execution_count": null,
   "metadata": {},
   "outputs": [],
   "source": []
  },
  {
   "cell_type": "code",
   "execution_count": 25,
   "metadata": {},
   "outputs": [],
   "source": [
    "# for key,item in results.items():\n",
    "#     print(key,item['test_acc'])"
   ]
  },
  {
   "cell_type": "code",
   "execution_count": 41,
   "metadata": {},
   "outputs": [],
   "source": [
    "# n_epochs=results.iloc[-1].name[0]\n",
    "# utters=['pataka','kakaka','pakata','papapa','petaka','tatata']\n",
    "\n",
    "# col_res={ut:{key:0 for key in results.loc[0].index} for ut in utters}\n",
    "\n",
    "# for index, col in results.items():\n",
    "#     col_res[col.name]['tstSpk_data']={num:0 for num in np.arange(100)}\n",
    "#     col_res[col.name]['test_accPerSpk']=0\n",
    "\n",
    "#     for epoch in range(n_epochs):\n",
    "#         col_res[col.name]['train_loss']+=col.loc[epoch]['train_loss']*(1/n_epochs)\n",
    "#         col_res[col.name]['test_loss']+=col.loc[epoch]['test_loss']*(1/n_epochs)\n",
    "#         col_res[col.name]['train_acc']+=col.loc[epoch]['train_acc']*(1/n_epochs)\n",
    "#         col_res[col.name]['test_acc']+=col.loc[epoch]['test_acc']*(1/n_epochs)\n",
    "\n",
    "#         for key,value in col.loc[epoch]['tstSpk_data'].items():   \n",
    "# #             if value>=.5:\n",
    "# #                 col_res[col.name]['test_accPerSpk']+=(1/(100*n_epochs))       \n",
    "#             col_res[col.name]['tstSpk_data'][key]+=value*(1/n_epochs)\n",
    "    "
   ]
  }
 ],
 "metadata": {
  "kernelspec": {
   "display_name": "Python 3",
   "language": "python",
   "name": "python3"
  },
  "language_info": {
   "codemirror_mode": {
    "name": "ipython",
    "version": 3
   },
   "file_extension": ".py",
   "mimetype": "text/x-python",
   "name": "python",
   "nbconvert_exporter": "python",
   "pygments_lexer": "ipython3",
   "version": "3.7.3"
  }
 },
 "nbformat": 4,
 "nbformat_minor": 2
}
