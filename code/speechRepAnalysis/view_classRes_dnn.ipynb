{
 "cells": [
  {
   "cell_type": "code",
   "execution_count": 10,
   "metadata": {},
   "outputs": [],
   "source": [
    "import os\n",
    "import sys\n",
    "import numpy as np\n",
    "import pandas as pd\n",
    "import pickle\n",
    "import random\n",
    "import matplotlib.pyplot as plt\n",
    "from sklearn import svm\n",
    "from sklearn.metrics import hinge_loss\n",
    "from AEspeech import AEspeech\n",
    "import pdb\n",
    "from sklearn import metrics\n",
    "from sklearn import svm, datasets\n",
    "from sklearn.svm import SVC\n",
    "from sklearn.model_selection import StratifiedShuffleSplit\n",
    "from sklearn.model_selection import GridSearchCV\n",
    "import joblib"
   ]
  },
  {
   "cell_type": "code",
   "execution_count": 19,
   "metadata": {},
   "outputs": [],
   "source": [
    "PATH=os.getcwd()\n",
    "\n",
    "mod=\"CAE\"\n",
    "rep='spec'\n",
    "\n",
    "trainRes_path=PATH+\"/pdSpanish/classResults/dnn/\"+mod+'_'+rep+'TrainResults.pkl'\n",
    "testRes_path=PATH+\"/pdSpanish/classResults/dnn/\"+mod+'_'+rep+'TestResults.pkl'\n",
    "trainRes=pd.read_pickle(trainRes_path)\n",
    "testRes=pd.read_pickle(testRes_path)\n",
    "\n",
    "results=pd.DataFrame({utter:{'test_loss':0, 'test_acc':0, 'tstSpk_data':{}} for utter in testRes.columns})\n",
    "div=max(testRes.index)[0]+1\n",
    "\n",
    "for item in testRes:\n",
    "    for index in testRes.index:\n",
    "        if index[1] == 'tstSpk_data':\n",
    "            results[item][index[1]].update(testRes[item][index])\n",
    "        else:\n",
    "            results[item][index[1]]+=testRes[item][index]/div\n"
   ]
  },
  {
   "cell_type": "code",
   "execution_count": 26,
   "metadata": {},
   "outputs": [
    {
     "data": {
      "text/plain": [
       "(0, 1)"
      ]
     },
     "execution_count": 26,
     "metadata": {},
     "output_type": "execute_result"
    },
    {
     "data": {
      "image/png": "[encoded data removed]",
      "text/plain": [
       "<Figure size 576x432 with 1 Axes>"
      ]
     },
     "metadata": {
      "needs_background": "light"
     },
     "output_type": "display_data"
    }
   ],
   "source": [
    "roc_dic={thrsh*.01:{'tp':0,'fp':0,'tn':0,'fn':0} for thrsh in np.arange(101)}\n",
    "tprs=[]\n",
    "fprs=[]\n",
    "utter='petaka'\n",
    "\n",
    "for itr,(index, col) in enumerate(results.items()):\n",
    "    if col.name==utter:\n",
    "        tprs=[]\n",
    "        fprs=[]\n",
    "        ax=axs[itr]\n",
    "        for thresh in roc_dic.items():\n",
    "            thr=thresh[0]\n",
    "    #         if col.name==utter:\n",
    "    #             for epoch in range(n_epochs):\n",
    "            for key,value in enumerate(list(results[index]['tstSpk_data'].values())):\n",
    "                if value == {}:\n",
    "                    value=0\n",
    "                if key<50 and value>thr:\n",
    "                    roc_dic[thr]['tp']+=1\n",
    "                if key<50 and value<thr:\n",
    "                    roc_dic[thr]['fn']+=1\n",
    "                if key>=50 and value>thr:\n",
    "                    roc_dic[thr]['fp']+=1\n",
    "                if key>=50 and value<thr:\n",
    "                    roc_dic[thr]['tn']+=1\n",
    "\n",
    "            tprs.append(roc_dic[thr]['tp']/(roc_dic[thr]['tp']+roc_dic[thr]['fn']+10e-6))\n",
    "            fprs.append(roc_dic[thr]['fp']/(roc_dic[thr]['fp']+roc_dic[thr]['tn']+10e-6))\n",
    "\n",
    "\n",
    "tprs=np.sort(tprs)\n",
    "fprs=np.sort(fprs)\n",
    "fig,ax=plt.subplots(1,1,figsize=(8, 6))\n",
    "plt.plot(np.sort(fprs),np.sort(tprs))\n",
    "plt.title(\"PD v. HC ROC: \"+mod+\", \"+rep+\", \"+utter+\"\\n AUC: \"+str(np.round(metrics.auc(fprs, tprs),3)))\n",
    "ax.set_xlabel(\"FPR\")\n",
    "ax.set_ylabel(\"TPR\")\n",
    "ax.set_xlim([-.05,1.05])\n",
    "ax.set_ylim([0,1])"
   ]
  },
  {
   "cell_type": "code",
   "execution_count": 14,
   "metadata": {},
   "outputs": [],
   "source": [
    "# roc_dic={thrsh*.01:{'tp':0,'fp':0,'tn':0,'fn':0} for thrsh in np.arange(101)}\n",
    "# tprs=[]\n",
    "# fprs=[]\n",
    "# fig,axs=plt.subplots(2,3,figsize=(12, 8))\n",
    "# axs = axs.ravel()\n",
    "# utter='petaka'\n",
    "\n",
    "# for itr,(index, col) in enumerate(results.items()):\n",
    "#     if col.name==utter:\n",
    "#         tprs=[]\n",
    "#         fprs=[]\n",
    "#         ax=axs[itr]\n",
    "#         for thresh in roc_dic.items():\n",
    "#             thr=thresh[0]\n",
    "#     #         if col.name==utter:\n",
    "#     #             for epoch in range(n_epochs):\n",
    "#             for key,value in enumerate(list(results[index]['tstSpk_data'].values())):\n",
    "#                 if value == {}:\n",
    "#                     value=0\n",
    "#                 if key<50 and value>thr:\n",
    "#                     roc_dic[thr]['tp']+=1\n",
    "#                 if key<50 and value<thr:\n",
    "#                     roc_dic[thr]['fn']+=1\n",
    "#                 if key>=50 and value>thr:\n",
    "#                     roc_dic[thr]['fp']+=1\n",
    "#                 if key>=50 and value<thr:\n",
    "#                     roc_dic[thr]['tn']+=1\n",
    "\n",
    "#             tprs.append(roc_dic[thr]['tp']/(roc_dic[thr]['tp']+roc_dic[thr]['fn']+10e-6))\n",
    "#             fprs.append(roc_dic[thr]['fp']/(roc_dic[thr]['fp']+roc_dic[thr]['tn']+10e-6))\n",
    "\n",
    "#         ax.plot(np.sort(fprs),np.sort(tprs))\n",
    "#         ax.set_title(\"PD v. HC ROC: \"+mod+\", \"+rep+\", \"+index+\"\\n AUC: \"+str(np.round(metrics.auc(fprs, tprs),3)))\n",
    "#         ax.set_xlabel(\"FPR\")\n",
    "#         ax.set_ylabel(\"TPR\")\n",
    "#         ax.set_xlim([-.05,1.05])\n",
    "#         ax.set_ylim([0,1])\n",
    "#         plt.tight_layout()\n",
    "    "
   ]
  },
  {
   "cell_type": "code",
   "execution_count": 21,
   "metadata": {},
   "outputs": [
    {
     "name": "stdout",
     "output_type": "stream",
     "text": [
      "MEAN % of FRAMES CLASSIFIED PD\n",
      "pataka -  pd: 0.594 hc: 0.571\n"
     ]
    },
    {
     "ename": "TypeError",
     "evalue": "unsupported operand type(s) for +: 'float' and 'dict'",
     "output_type": "error",
     "traceback": [
      "\u001b[1;31m---------------------------------------------------------------------------\u001b[0m",
      "\u001b[1;31mTypeError\u001b[0m                                 Traceback (most recent call last)",
      "\u001b[1;32m<ipython-input-21-b0ac3a1e3ee8>\u001b[0m in \u001b[0;36m<module>\u001b[1;34m\u001b[0m\n\u001b[0;32m      1\u001b[0m \u001b[0mprint\u001b[0m\u001b[1;33m(\u001b[0m\u001b[1;34m'MEAN % of FRAMES CLASSIFIED PD'\u001b[0m\u001b[1;33m)\u001b[0m\u001b[1;33m\u001b[0m\u001b[1;33m\u001b[0m\u001b[0m\n\u001b[0;32m      2\u001b[0m \u001b[1;32mfor\u001b[0m \u001b[0mkey\u001b[0m\u001b[1;33m,\u001b[0m\u001b[0mitem\u001b[0m \u001b[1;32min\u001b[0m \u001b[0mresults\u001b[0m\u001b[1;33m.\u001b[0m\u001b[0mitems\u001b[0m\u001b[1;33m(\u001b[0m\u001b[1;33m)\u001b[0m\u001b[1;33m:\u001b[0m\u001b[1;33m\u001b[0m\u001b[1;33m\u001b[0m\u001b[0m\n\u001b[1;32m----> 3\u001b[1;33m     \u001b[0mprint\u001b[0m\u001b[1;33m(\u001b[0m\u001b[0mkey\u001b[0m\u001b[1;33m+\u001b[0m\u001b[1;34m' - '\u001b[0m\u001b[1;33m,\u001b[0m \u001b[1;34m'pd: '\u001b[0m\u001b[1;33m+\u001b[0m\u001b[0mstr\u001b[0m\u001b[1;33m(\u001b[0m\u001b[0mnp\u001b[0m\u001b[1;33m.\u001b[0m\u001b[0mround\u001b[0m\u001b[1;33m(\u001b[0m\u001b[0mnp\u001b[0m\u001b[1;33m.\u001b[0m\u001b[0mmean\u001b[0m\u001b[1;33m(\u001b[0m\u001b[1;33m[\u001b[0m\u001b[0mitm\u001b[0m \u001b[1;32mfor\u001b[0m \u001b[0mk\u001b[0m\u001b[1;33m,\u001b[0m\u001b[0mitm\u001b[0m \u001b[1;32min\u001b[0m \u001b[0mitem\u001b[0m\u001b[1;33m[\u001b[0m\u001b[1;34m'tstSpk_data'\u001b[0m\u001b[1;33m]\u001b[0m\u001b[1;33m.\u001b[0m\u001b[0mitems\u001b[0m\u001b[1;33m(\u001b[0m\u001b[1;33m)\u001b[0m \u001b[1;32mif\u001b[0m \u001b[0mk\u001b[0m\u001b[1;33m<\u001b[0m\u001b[1;36m50\u001b[0m\u001b[1;33m]\u001b[0m\u001b[1;33m)\u001b[0m\u001b[1;33m,\u001b[0m\u001b[1;36m3\u001b[0m\u001b[1;33m)\u001b[0m\u001b[1;33m)\u001b[0m\u001b[1;33m,\u001b[0m \u001b[1;34m'hc: '\u001b[0m\u001b[1;33m+\u001b[0m\u001b[0mstr\u001b[0m\u001b[1;33m(\u001b[0m\u001b[0mnp\u001b[0m\u001b[1;33m.\u001b[0m\u001b[0mround\u001b[0m\u001b[1;33m(\u001b[0m\u001b[0mnp\u001b[0m\u001b[1;33m.\u001b[0m\u001b[0mmean\u001b[0m\u001b[1;33m(\u001b[0m\u001b[1;33m[\u001b[0m\u001b[0mitm\u001b[0m \u001b[1;32mfor\u001b[0m \u001b[0mk\u001b[0m\u001b[1;33m,\u001b[0m\u001b[0mitm\u001b[0m \u001b[1;32min\u001b[0m \u001b[0mitem\u001b[0m\u001b[1;33m[\u001b[0m\u001b[1;34m'tstSpk_data'\u001b[0m\u001b[1;33m]\u001b[0m\u001b[1;33m.\u001b[0m\u001b[0mitems\u001b[0m\u001b[1;33m(\u001b[0m\u001b[1;33m)\u001b[0m \u001b[1;32mif\u001b[0m \u001b[0mk\u001b[0m\u001b[1;33m>=\u001b[0m\u001b[1;36m50\u001b[0m\u001b[1;33m]\u001b[0m\u001b[1;33m)\u001b[0m\u001b[1;33m,\u001b[0m\u001b[1;36m3\u001b[0m\u001b[1;33m)\u001b[0m\u001b[1;33m)\u001b[0m\u001b[1;33m)\u001b[0m\u001b[1;33m\u001b[0m\u001b[1;33m\u001b[0m\u001b[0m\n\u001b[0m",
      "\u001b[1;32m<__array_function__ internals>\u001b[0m in \u001b[0;36mmean\u001b[1;34m(*args, **kwargs)\u001b[0m\n",
      "\u001b[1;32m~\\Anaconda3\\lib\\site-packages\\numpy\\core\\fromnumeric.py\u001b[0m in \u001b[0;36mmean\u001b[1;34m(a, axis, dtype, out, keepdims)\u001b[0m\n\u001b[0;32m   3255\u001b[0m \u001b[1;33m\u001b[0m\u001b[0m\n\u001b[0;32m   3256\u001b[0m     return _methods._mean(a, axis=axis, dtype=dtype,\n\u001b[1;32m-> 3257\u001b[1;33m                           out=out, **kwargs)\n\u001b[0m\u001b[0;32m   3258\u001b[0m \u001b[1;33m\u001b[0m\u001b[0m\n\u001b[0;32m   3259\u001b[0m \u001b[1;33m\u001b[0m\u001b[0m\n",
      "\u001b[1;32m~\\Anaconda3\\lib\\site-packages\\numpy\\core\\_methods.py\u001b[0m in \u001b[0;36m_mean\u001b[1;34m(a, axis, dtype, out, keepdims)\u001b[0m\n\u001b[0;32m    149\u001b[0m             \u001b[0mis_float16_result\u001b[0m \u001b[1;33m=\u001b[0m \u001b[1;32mTrue\u001b[0m\u001b[1;33m\u001b[0m\u001b[1;33m\u001b[0m\u001b[0m\n\u001b[0;32m    150\u001b[0m \u001b[1;33m\u001b[0m\u001b[0m\n\u001b[1;32m--> 151\u001b[1;33m     \u001b[0mret\u001b[0m \u001b[1;33m=\u001b[0m \u001b[0mumr_sum\u001b[0m\u001b[1;33m(\u001b[0m\u001b[0marr\u001b[0m\u001b[1;33m,\u001b[0m \u001b[0maxis\u001b[0m\u001b[1;33m,\u001b[0m \u001b[0mdtype\u001b[0m\u001b[1;33m,\u001b[0m \u001b[0mout\u001b[0m\u001b[1;33m,\u001b[0m \u001b[0mkeepdims\u001b[0m\u001b[1;33m)\u001b[0m\u001b[1;33m\u001b[0m\u001b[1;33m\u001b[0m\u001b[0m\n\u001b[0m\u001b[0;32m    152\u001b[0m     \u001b[1;32mif\u001b[0m \u001b[0misinstance\u001b[0m\u001b[1;33m(\u001b[0m\u001b[0mret\u001b[0m\u001b[1;33m,\u001b[0m \u001b[0mmu\u001b[0m\u001b[1;33m.\u001b[0m\u001b[0mndarray\u001b[0m\u001b[1;33m)\u001b[0m\u001b[1;33m:\u001b[0m\u001b[1;33m\u001b[0m\u001b[1;33m\u001b[0m\u001b[0m\n\u001b[0;32m    153\u001b[0m         ret = um.true_divide(\n",
      "\u001b[1;31mTypeError\u001b[0m: unsupported operand type(s) for +: 'float' and 'dict'"
     ]
    }
   ],
   "source": [
    "print('MEAN % of FRAMES CLASSIFIED PD')\n",
    "for key,item in results.items():\n",
    "    print(key+' - ', 'pd: '+str(np.round(np.mean([itm for k,itm in item['tstSpk_data'].items() if k<50]),3)), 'hc: '+str(np.round(np.mean([itm for k,itm in item['tstSpk_data'].items() if k>=50]),3)))\n"
   ]
  },
  {
   "cell_type": "code",
   "execution_count": null,
   "metadata": {},
   "outputs": [],
   "source": []
  },
  {
   "cell_type": "code",
   "execution_count": null,
   "metadata": {},
   "outputs": [],
   "source": []
  },
  {
   "cell_type": "code",
   "execution_count": null,
   "metadata": {},
   "outputs": [],
   "source": []
  },
  {
   "cell_type": "code",
   "execution_count": null,
   "metadata": {},
   "outputs": [],
   "source": [
    "# for key,item in results.items():\n",
    "#     print(key,item['test_acc'])"
   ]
  },
  {
   "cell_type": "code",
   "execution_count": null,
   "metadata": {},
   "outputs": [],
   "source": [
    "# n_epochs=results.iloc[-1].name[0]\n",
    "# utters=['pataka','kakaka','pakata','papapa','petaka','tatata']\n",
    "\n",
    "# col_res={ut:{key:0 for key in results.loc[0].index} for ut in utters}\n",
    "\n",
    "# for index, col in results.items():\n",
    "#     col_res[col.name]['tstSpk_data']={num:0 for num in np.arange(100)}\n",
    "#     col_res[col.name]['test_accPerSpk']=0\n",
    "\n",
    "#     for epoch in range(n_epochs):\n",
    "#         col_res[col.name]['train_loss']+=col.loc[epoch]['train_loss']*(1/n_epochs)\n",
    "#         col_res[col.name]['test_loss']+=col.loc[epoch]['test_loss']*(1/n_epochs)\n",
    "#         col_res[col.name]['train_acc']+=col.loc[epoch]['train_acc']*(1/n_epochs)\n",
    "#         col_res[col.name]['test_acc']+=col.loc[epoch]['test_acc']*(1/n_epochs)\n",
    "\n",
    "#         for key,value in col.loc[epoch]['tstSpk_data'].items():   \n",
    "# #             if value>=.5:\n",
    "# #                 col_res[col.name]['test_accPerSpk']+=(1/(100*n_epochs))       \n",
    "#             col_res[col.name]['tstSpk_data'][key]+=value*(1/n_epochs)\n",
    "    "
   ]
  }
 ],
 "metadata": {
  "kernelspec": {
   "display_name": "Python 3",
   "language": "python",
   "name": "python3"
  },
  "language_info": {
   "codemirror_mode": {
    "name": "ipython",
    "version": 3
   },
   "file_extension": ".py",
   "mimetype": "text/x-python",
   "name": "python",
   "nbconvert_exporter": "python",
   "pygments_lexer": "ipython3",
   "version": "3.7.3"
  }
 },
 "nbformat": 4,
 "nbformat_minor": 2
}
